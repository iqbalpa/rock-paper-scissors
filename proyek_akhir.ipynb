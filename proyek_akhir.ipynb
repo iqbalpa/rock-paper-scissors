{
  "nbformat": 4,
  "nbformat_minor": 0,
  "metadata": {
    "colab": {
      "name": "proyek_akhir7.ipynb",
      "provenance": [],
      "collapsed_sections": []
    },
    "kernelspec": {
      "name": "python3",
      "display_name": "Python 3"
    },
    "language_info": {
      "name": "python"
    },
    "accelerator": "GPU"
  },
  "cells": [
    {
      "cell_type": "markdown",
      "source": [
        "Iqbal Pahlevi Amin"
      ],
      "metadata": {
        "id": "6iaJL1VJLNTK"
      }
    },
    {
      "cell_type": "code",
      "execution_count": null,
      "metadata": {
        "id": "Zmlwfb2uqPkv"
      },
      "outputs": [],
      "source": [
        "# download datasets\n",
        "!wget --no-check-certificate \\\n",
        "  https://github.com/dicodingacademy/assets/releases/download/release/rockpaperscissors.zip \\\n",
        "  -O /tmp/rockpaperscissors.zip"
      ]
    },
    {
      "cell_type": "code",
      "source": [
        "# melakukan ekstraksi pada file zip\n",
        "import zipfile, os\n",
        "local_zip = '/tmp/rockpaperscissors.zip'\n",
        "zip_ref = zipfile.ZipFile(local_zip, 'r')\n",
        "zip_ref.extractall('/tmp')\n",
        "zip_ref.close()\n",
        "\n",
        "import shutil\n",
        "base_dir = '/tmp/rockpaperscissors'\n",
        "\n",
        "# remove rps-cv-images folder\n",
        "shutil.rmtree(os.path.join(base_dir, 'rps-cv-images'))\n",
        "\n",
        "# remove README \n",
        "os.remove(os.path.join(base_dir, 'README_rpc-cv-images.txt'))"
      ],
      "metadata": {
        "id": "9Zxab0UkqSY7"
      },
      "execution_count": 2,
      "outputs": []
    },
    {
      "cell_type": "code",
      "source": [
        "from tensorflow.keras.preprocessing.image import ImageDataGenerator\n",
        "\n",
        "train_datagen = ImageDataGenerator(\n",
        "    rescale=1./255,\n",
        "    fill_mode='nearest',\n",
        "    rotation_range=90,\n",
        "    horizontal_flip=True,\n",
        "    vertical_flip=True,\n",
        "    width_shift_range=0.1,\n",
        "    height_shift_range=0.1,\n",
        "    shear_range=0.2,\n",
        "    zoom_range=0.15,\n",
        "    validation_split=0.4\n",
        ")\n",
        "validation_datagen = ImageDataGenerator(\n",
        "    rescale=1./255,\n",
        "    validation_split=0.4\n",
        ")"
      ],
      "metadata": {
        "id": "cffNU6CJqVAr"
      },
      "execution_count": 3,
      "outputs": []
    },
    {
      "cell_type": "code",
      "source": [
        "train_generator = train_datagen.flow_from_directory(\n",
        "    base_dir, \n",
        "    target_size=(150,150), \n",
        "    color_mode='rgb',\n",
        "    batch_size=32, \n",
        "    shuffle=True,\n",
        "    class_mode='categorical',\n",
        "    subset='training'\n",
        ")\n",
        "\n",
        "validation_generator = validation_datagen.flow_from_directory(\n",
        "    base_dir, \n",
        "    target_size=(150,150),\n",
        "    color_mode='rgb',\n",
        "    batch_size=32,\n",
        "    shuffle=True,\n",
        "    class_mode='categorical',\n",
        "    subset='validation'\n",
        ")"
      ],
      "metadata": {
        "colab": {
          "base_uri": "https://localhost:8080/"
        },
        "id": "E3CCyBvHqWpK",
        "outputId": "87934cb2-2ad7-4eaf-e54b-e6958e9b31a3"
      },
      "execution_count": 4,
      "outputs": [
        {
          "output_type": "stream",
          "name": "stdout",
          "text": [
            "Found 1314 images belonging to 3 classes.\n",
            "Found 874 images belonging to 3 classes.\n"
          ]
        }
      ]
    },
    {
      "cell_type": "code",
      "source": [
        "import tensorflow as tf\n",
        "\n",
        "# create model\n",
        "model = tf.keras.models.Sequential([\n",
        "    # 1st layer\n",
        "    tf.keras.layers.Conv2D(32, (3,3), activation='relu', input_shape=(150,150,3)),\n",
        "    tf.keras.layers.MaxPooling2D(2,2),\n",
        "    #2nd layer\n",
        "    tf.keras.layers.Conv2D(64, (3,3), activation='relu'),\n",
        "    tf.keras.layers.MaxPooling2D(2,2),\n",
        "    #3rd layer\n",
        "    tf.keras.layers.Conv2D(128, (3,3), activation='relu'),\n",
        "    tf.keras.layers.MaxPooling2D(2,2),\n",
        "    #4th layer\n",
        "    tf.keras.layers.Conv2D(256, (3,3), activation='relu'),\n",
        "    tf.keras.layers.MaxPooling2D(2,2),\n",
        "    tf.keras.layers.Dropout(0.5),\n",
        "    tf.keras.layers.Flatten(),\n",
        "    #output\n",
        "    tf.keras.layers.Dense(256, activation='relu'),\n",
        "    tf.keras.layers.Dense(3, activation='softmax')\n",
        "])"
      ],
      "metadata": {
        "id": "H50KqGs4qZQi"
      },
      "execution_count": 5,
      "outputs": []
    },
    {
      "cell_type": "code",
      "source": [
        "# compile model\n",
        "model.compile(\n",
        "    loss='categorical_crossentropy',\n",
        "    optimizer='adam',\n",
        "    metrics=['accuracy']\n",
        ")"
      ],
      "metadata": {
        "id": "mWjR9Vreqa5E"
      },
      "execution_count": 6,
      "outputs": []
    },
    {
      "cell_type": "code",
      "source": [
        "from tensorflow.keras.callbacks import ModelCheckpoint, EarlyStopping, TensorBoard\n",
        "\n",
        "# create callbacks\n",
        "filepath = 'my_best_model.epoch{epoch:02d}-loss{val_loss:.2f}.hdf5'\n",
        "checkpoint = ModelCheckpoint(\n",
        "    filepath=filepath, \n",
        "    monitor='val_loss',\n",
        "    verbose=1, \n",
        "    save_best_only=True,\n",
        "    mode='min',\n",
        ")\n",
        "early_stopping = EarlyStopping(\n",
        "    monitor=\"val_loss\",\n",
        "    min_delta=0,\n",
        "    patience=10,\n",
        ")\n",
        "tensorboard = TensorBoard(\n",
        "    log_dir='logs',\n",
        "    histogram_freq=0,\n",
        "    write_graph=True,\n",
        "    write_images=False,\n",
        "    write_steps_per_second=False,\n",
        "    update_freq='epoch',\n",
        "    profile_batch=0,\n",
        "    embeddings_freq=0,\n",
        "    embeddings_metadata=None,\n",
        ")\n",
        "\n",
        "callback = [checkpoint, tensorboard, early_stopping]"
      ],
      "metadata": {
        "id": "YgYiIzN3qcgi"
      },
      "execution_count": 7,
      "outputs": []
    },
    {
      "cell_type": "code",
      "source": [
        "# train model\n",
        "model.fit(\n",
        "    train_generator,\n",
        "    steps_per_epoch=25,\n",
        "    epochs=20,\n",
        "    validation_data=validation_generator,\n",
        "    validation_steps=5,\n",
        "    callbacks=callback,\n",
        "    verbose=1\n",
        ")"
      ],
      "metadata": {
        "id": "v6eowYt3qevS",
        "colab": {
          "base_uri": "https://localhost:8080/"
        },
        "outputId": "1c673e6b-3f8a-4ea1-885d-0eba2248d668"
      },
      "execution_count": 8,
      "outputs": [
        {
          "output_type": "stream",
          "name": "stdout",
          "text": [
            "Epoch 1/20\n",
            "25/25 [==============================] - ETA: 0s - loss: 1.0986 - accuracy: 0.3725\n",
            "Epoch 1: val_loss improved from inf to 0.96700, saving model to my_best_model.epoch01-loss0.97.hdf5\n",
            "25/25 [==============================] - 18s 248ms/step - loss: 1.0986 - accuracy: 0.3725 - val_loss: 0.9670 - val_accuracy: 0.5063\n",
            "Epoch 2/20\n",
            "25/25 [==============================] - ETA: 0s - loss: 0.9771 - accuracy: 0.5403\n",
            "Epoch 2: val_loss improved from 0.96700 to 0.95843, saving model to my_best_model.epoch02-loss0.96.hdf5\n",
            "25/25 [==============================] - 7s 269ms/step - loss: 0.9771 - accuracy: 0.5403 - val_loss: 0.9584 - val_accuracy: 0.5500\n",
            "Epoch 3/20\n",
            "25/25 [==============================] - ETA: 0s - loss: 0.8451 - accuracy: 0.6247\n",
            "Epoch 3: val_loss improved from 0.95843 to 0.85206, saving model to my_best_model.epoch03-loss0.85.hdf5\n",
            "25/25 [==============================] - 6s 240ms/step - loss: 0.8451 - accuracy: 0.6247 - val_loss: 0.8521 - val_accuracy: 0.6062\n",
            "Epoch 4/20\n",
            "25/25 [==============================] - ETA: 0s - loss: 0.8435 - accuracy: 0.5818\n",
            "Epoch 4: val_loss improved from 0.85206 to 0.71082, saving model to my_best_model.epoch04-loss0.71.hdf5\n",
            "25/25 [==============================] - 6s 242ms/step - loss: 0.8435 - accuracy: 0.5818 - val_loss: 0.7108 - val_accuracy: 0.5625\n",
            "Epoch 5/20\n",
            "25/25 [==============================] - ETA: 0s - loss: 0.7033 - accuracy: 0.6737\n",
            "Epoch 5: val_loss improved from 0.71082 to 0.49369, saving model to my_best_model.epoch05-loss0.49.hdf5\n",
            "25/25 [==============================] - 6s 244ms/step - loss: 0.7033 - accuracy: 0.6737 - val_loss: 0.4937 - val_accuracy: 0.8375\n",
            "Epoch 6/20\n",
            "25/25 [==============================] - ETA: 0s - loss: 0.6548 - accuracy: 0.7364\n",
            "Epoch 6: val_loss did not improve from 0.49369\n",
            "25/25 [==============================] - 6s 235ms/step - loss: 0.6548 - accuracy: 0.7364 - val_loss: 0.5665 - val_accuracy: 0.7563\n",
            "Epoch 7/20\n",
            "25/25 [==============================] - ETA: 0s - loss: 0.4312 - accuracy: 0.8325\n",
            "Epoch 7: val_loss improved from 0.49369 to 0.47599, saving model to my_best_model.epoch07-loss0.48.hdf5\n",
            "25/25 [==============================] - 7s 283ms/step - loss: 0.4312 - accuracy: 0.8325 - val_loss: 0.4760 - val_accuracy: 0.8500\n",
            "Epoch 8/20\n",
            "25/25 [==============================] - ETA: 0s - loss: 0.7091 - accuracy: 0.7000\n",
            "Epoch 8: val_loss did not improve from 0.47599\n",
            "25/25 [==============================] - 6s 234ms/step - loss: 0.7091 - accuracy: 0.7000 - val_loss: 0.5478 - val_accuracy: 0.8625\n",
            "Epoch 9/20\n",
            "25/25 [==============================] - ETA: 0s - loss: 0.6264 - accuracy: 0.7714\n",
            "Epoch 9: val_loss improved from 0.47599 to 0.41054, saving model to my_best_model.epoch09-loss0.41.hdf5\n",
            "25/25 [==============================] - 6s 235ms/step - loss: 0.6264 - accuracy: 0.7714 - val_loss: 0.4105 - val_accuracy: 0.8250\n",
            "Epoch 10/20\n",
            "25/25 [==============================] - ETA: 0s - loss: 0.3834 - accuracy: 0.8562\n",
            "Epoch 10: val_loss did not improve from 0.41054\n",
            "25/25 [==============================] - 6s 246ms/step - loss: 0.3834 - accuracy: 0.8562 - val_loss: 0.4111 - val_accuracy: 0.8125\n",
            "Epoch 11/20\n",
            "25/25 [==============================] - ETA: 0s - loss: 0.3300 - accuracy: 0.8863\n",
            "Epoch 11: val_loss improved from 0.41054 to 0.26537, saving model to my_best_model.epoch11-loss0.27.hdf5\n",
            "25/25 [==============================] - 6s 243ms/step - loss: 0.3300 - accuracy: 0.8863 - val_loss: 0.2654 - val_accuracy: 0.9000\n",
            "Epoch 12/20\n",
            "25/25 [==============================] - ETA: 0s - loss: 0.2515 - accuracy: 0.9075\n",
            "Epoch 12: val_loss did not improve from 0.26537\n",
            "25/25 [==============================] - 6s 246ms/step - loss: 0.2515 - accuracy: 0.9075 - val_loss: 0.3485 - val_accuracy: 0.9563\n",
            "Epoch 13/20\n",
            "25/25 [==============================] - ETA: 0s - loss: 0.3683 - accuracy: 0.8649\n",
            "Epoch 13: val_loss did not improve from 0.26537\n",
            "25/25 [==============================] - 6s 231ms/step - loss: 0.3683 - accuracy: 0.8649 - val_loss: 0.2956 - val_accuracy: 0.9062\n",
            "Epoch 14/20\n",
            "25/25 [==============================] - ETA: 0s - loss: 0.2468 - accuracy: 0.9237\n",
            "Epoch 14: val_loss did not improve from 0.26537\n",
            "25/25 [==============================] - 6s 240ms/step - loss: 0.2468 - accuracy: 0.9237 - val_loss: 0.3122 - val_accuracy: 0.9438\n",
            "Epoch 15/20\n",
            "25/25 [==============================] - ETA: 0s - loss: 0.1740 - accuracy: 0.9475\n",
            "Epoch 15: val_loss improved from 0.26537 to 0.12572, saving model to my_best_model.epoch15-loss0.13.hdf5\n",
            "25/25 [==============================] - 6s 246ms/step - loss: 0.1740 - accuracy: 0.9475 - val_loss: 0.1257 - val_accuracy: 0.9500\n",
            "Epoch 16/20\n",
            "25/25 [==============================] - ETA: 0s - loss: 0.2358 - accuracy: 0.9299\n",
            "Epoch 16: val_loss did not improve from 0.12572\n",
            "25/25 [==============================] - 6s 233ms/step - loss: 0.2358 - accuracy: 0.9299 - val_loss: 0.2495 - val_accuracy: 0.9125\n",
            "Epoch 17/20\n",
            "25/25 [==============================] - ETA: 0s - loss: 0.1651 - accuracy: 0.9377\n",
            "Epoch 17: val_loss did not improve from 0.12572\n",
            "25/25 [==============================] - 6s 231ms/step - loss: 0.1651 - accuracy: 0.9377 - val_loss: 0.4521 - val_accuracy: 0.8625\n",
            "Epoch 18/20\n",
            "25/25 [==============================] - ETA: 0s - loss: 0.1648 - accuracy: 0.9488\n",
            "Epoch 18: val_loss improved from 0.12572 to 0.08512, saving model to my_best_model.epoch18-loss0.09.hdf5\n",
            "25/25 [==============================] - 6s 240ms/step - loss: 0.1648 - accuracy: 0.9488 - val_loss: 0.0851 - val_accuracy: 0.9688\n",
            "Epoch 19/20\n",
            "25/25 [==============================] - ETA: 0s - loss: 0.1453 - accuracy: 0.9558\n",
            "Epoch 19: val_loss did not improve from 0.08512\n",
            "25/25 [==============================] - 6s 232ms/step - loss: 0.1453 - accuracy: 0.9558 - val_loss: 0.2286 - val_accuracy: 0.9312\n",
            "Epoch 20/20\n",
            "25/25 [==============================] - ETA: 0s - loss: 0.1438 - accuracy: 0.9519\n",
            "Epoch 20: val_loss did not improve from 0.08512\n",
            "25/25 [==============================] - 6s 235ms/step - loss: 0.1438 - accuracy: 0.9519 - val_loss: 0.1815 - val_accuracy: 0.9312\n"
          ]
        },
        {
          "output_type": "execute_result",
          "data": {
            "text/plain": [
              "<keras.callbacks.History at 0x7fb6854abe90>"
            ]
          },
          "metadata": {},
          "execution_count": 8
        }
      ]
    },
    {
      "cell_type": "code",
      "source": [
        "import numpy as np\n",
        "from google.colab import files\n",
        "from tensorflow.keras.preprocessing import image\n",
        "import matplotlib.pyplot as plt\n",
        "import matplotlib.image as mimg\n",
        "%matplotlib inline\n",
        "\n",
        "# upload file\n",
        "uploaded = files.upload()\n",
        "\n",
        "for fn in uploaded.keys():\n",
        "  # predicting images\n",
        "  path = fn\n",
        "\n",
        "  img = image.load_img(path, target_size=(150,150))\n",
        "  imgplot = plt.imshow(img)\n",
        "  x = image.img_to_array(img)\n",
        "  x = np.expand_dims(x, axis=0)\n",
        "  images = np.vstack([x])\n",
        "\n",
        "  predictions = model.predict(images, batch_size=10)\n",
        "  print(predictions)\n",
        "  labels = {'paper': predictions[0][0], 'rock':predictions[0][1], 'scissors':predictions[0][2]}\n",
        "  pred_label = max(labels, key=labels.get)\n",
        "\n",
        "  plt.title(pred_label)\n",
        "  plt.show()"
      ],
      "metadata": {
        "id": "fLbiBn-AqgAi",
        "colab": {
          "resources": {
            "http://localhost:8080/nbextensions/google.colab/files.js": {
              "data": "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",
              "ok": true,
              "headers": [
                [
                  "content-type",
                  "application/javascript"
                ]
              ],
              "status": 200,
              "status_text": ""
            }
          },
          "base_uri": "https://localhost:8080/",
          "height": 38
        },
        "outputId": "67ecff72-fc61-4d58-8e26-60c42e511522"
      },
      "execution_count": null,
      "outputs": [
        {
          "output_type": "display_data",
          "data": {
            "text/plain": [
              "<IPython.core.display.HTML object>"
            ],
            "text/html": [
              "\n",
              "     <input type=\"file\" id=\"files-79155875-90da-4473-b766-5bcdf58b4ba7\" name=\"files[]\" multiple disabled\n",
              "        style=\"border:none\" />\n",
              "     <output id=\"result-79155875-90da-4473-b766-5bcdf58b4ba7\">\n",
              "      Upload widget is only available when the cell has been executed in the\n",
              "      current browser session. Please rerun this cell to enable.\n",
              "      </output>\n",
              "      <script src=\"/nbextensions/google.colab/files.js\"></script> "
            ]
          },
          "metadata": {}
        }
      ]
    }
  ]
}